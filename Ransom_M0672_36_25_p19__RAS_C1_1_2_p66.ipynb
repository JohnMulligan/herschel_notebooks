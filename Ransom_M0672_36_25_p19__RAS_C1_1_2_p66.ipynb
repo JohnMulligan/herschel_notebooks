{
 "cells": [
  {
   "cell_type": "code",
   "execution_count": 1,
   "id": "806c95ae",
   "metadata": {},
   "outputs": [],
   "source": [
    "from math import log10,sin,radians"
   ]
  },
  {
   "cell_type": "code",
   "execution_count": 2,
   "id": "669bfde1",
   "metadata": {},
   "outputs": [],
   "source": [
    "class HMS():\n",
    "    def __init__(self,h=0,m=0,s=0):\n",
    "        self.h=h\n",
    "        self.m=m\n",
    "        self.s=s"
   ]
  },
  {
   "cell_type": "code",
   "execution_count": 3,
   "id": "3b236022",
   "metadata": {},
   "outputs": [],
   "source": [
    "class DMS():\n",
    "    def __init__(self,d=0,m=0,s=0):\n",
    "        self.d=d\n",
    "        self.m=m\n",
    "        self.s=s"
   ]
  },
  {
   "cell_type": "code",
   "execution_count": 4,
   "id": "f5152ec6",
   "metadata": {},
   "outputs": [],
   "source": [
    "def seconds_to_DMS(seconds):\n",
    "    degrees=round(seconds/3600)\n",
    "    minutes=round((seconds-degrees*3600)/60)\n",
    "    seconds=seconds-minutes*60-degrees*3600\n",
    "    return DMS(d=degrees,m=minutes,s=seconds)"
   ]
  },
  {
   "cell_type": "code",
   "execution_count": 5,
   "id": "fb82eb50",
   "metadata": {},
   "outputs": [],
   "source": [
    "def HMS_add(X,Y):\n",
    "    Z=HMS()\n",
    "    s=(X.s+Y.s)\n",
    "    m=(X.m+Y.m)\n",
    "    h=(X.h+Y.h)\n",
    "    Z.s=s%60\n",
    "    Z.m=m%60\n",
    "    if s>=60:\n",
    "        Z.m+=1\n",
    "    Z.h=h%60\n",
    "    if m>=60:\n",
    "        Z.h+=1\n",
    "    return Z"
   ]
  },
  {
   "cell_type": "code",
   "execution_count": 6,
   "id": "9accd2f5",
   "metadata": {},
   "outputs": [],
   "source": [
    "def DMS_add(X,Y):\n",
    "    Z=DMS()\n",
    "    s=(X.s+Y.s)\n",
    "    m=(X.m+Y.m)\n",
    "    d=(X.d+Y.d)\n",
    "    Z.s=s%60\n",
    "    Z.m=m%60\n",
    "    if s>=60:\n",
    "        Z.m+=1\n",
    "    Z.d=d%60\n",
    "    if m>=60:\n",
    "        Z.d+=1\n",
    "    return Z"
   ]
  },
  {
   "cell_type": "code",
   "execution_count": 7,
   "id": "e6ce4454",
   "metadata": {},
   "outputs": [],
   "source": [
    "def HMS_subtract(X,Y):\n",
    "    Z=HMS()\n",
    "    s=(X.s-Y.s)\n",
    "    m=(X.m-Y.m)\n",
    "    h=(X.h-Y.h)\n",
    "    if s<0:\n",
    "        Z.s=60+s\n",
    "        Z.m-=1\n",
    "    else:\n",
    "        Z.s=s\n",
    "    \n",
    "    if m<0:\n",
    "        Z.m+=(60+m)\n",
    "        Z.h-=1\n",
    "    else:\n",
    "        Z.m+=m\n",
    "    \n",
    "    Z.h+=h\n",
    "    \n",
    "    return Z"
   ]
  },
  {
   "cell_type": "code",
   "execution_count": 8,
   "id": "e2e994b5",
   "metadata": {},
   "outputs": [],
   "source": [
    "def DMS_subtract(X,Y):\n",
    "    Z=DMS()\n",
    "    s=(X.s-Y.s)\n",
    "    m=(X.m-Y.m)\n",
    "    d=(X.d-Y.d)\n",
    "    if s<0:\n",
    "        Z.s=60+s\n",
    "        Z.m-=1\n",
    "    else:\n",
    "        Z.s=s\n",
    "    \n",
    "    if m<0:\n",
    "        Z.m+=(60+m)\n",
    "        Z.d-=1\n",
    "    else:\n",
    "        Z.m+=m\n",
    "    \n",
    "    Z.d+=d\n",
    "    \n",
    "    return Z"
   ]
  },
  {
   "cell_type": "code",
   "execution_count": 9,
   "id": "0a1ad164",
   "metadata": {},
   "outputs": [],
   "source": [
    "def HMS_halve(X):\n",
    "    Z=HMS()\n",
    "    \n",
    "    if X.h%2==1:\n",
    "        Z.h=int((X.h-1)/2)\n",
    "        Z.m+=30\n",
    "    else:\n",
    "        Z.h=int(X.h/2)\n",
    "\n",
    "    if X.m%2==1:\n",
    "        Z.m+=int((X.m-1)/2)\n",
    "        Z.s+=30\n",
    "    else:\n",
    "        Z.m=int(X.m/2)\n",
    "    \n",
    "    if X.s%2==1:\n",
    "        Z.s=Z.s\n",
    "        Z.s+=X.s/2\n",
    "    else:\n",
    "        Z.s+=int(X.s/2)\n",
    "    \n",
    "    return Z"
   ]
  },
  {
   "cell_type": "code",
   "execution_count": 10,
   "id": "11b93f3e",
   "metadata": {},
   "outputs": [],
   "source": [
    "def HMS_print(label,X):\n",
    "    print(\"%s: %sh,%s',%s\\\"\" %(label,str(X.h),str(X.m),str(X.s)))"
   ]
  },
  {
   "cell_type": "code",
   "execution_count": 11,
   "id": "cc4a7877",
   "metadata": {},
   "outputs": [],
   "source": [
    "def DMS_print(label,X):\n",
    "    print(\"%s: %sdeg,%s',%s\\\"\" %(label,str(X.d),str(X.m),str(X.s)))"
   ]
  },
  {
   "cell_type": "code",
   "execution_count": 12,
   "id": "42eab315",
   "metadata": {},
   "outputs": [],
   "source": [
    "def find_RA(A,B,a,b,known_RA):\n",
    "    HMS_print(\"A\",A)\n",
    "    HMS_print(\"B\",B)\n",
    "    sumAB=HMS_add(A,B)\n",
    "    HMS_print(\"A+B\",sumAB)\n",
    "    halfsumAB=HMS_halve(sumAB)\n",
    "    HMS_print(\"(A+B)/2\",halfsumAB)\n",
    "    \n",
    "    HMS_print(\"a\",a)\n",
    "    HMS_print(\"b\",b)\n",
    "    sumab=HMS_add(a,b)\n",
    "    HMS_print(\"a+b\",sumab)\n",
    "    halfsumab=HMS_halve(sumab)\n",
    "    HMS_print(\"(a+b)/2\",halfsumab)\n",
    "    \n",
    "    dec_diff=HMS_subtract(halfsumab,halfsumAB)\n",
    "    HMS_print(\"RA diff [(a+b)/2 - (A+B)/2]\",dec_diff)\n",
    "    dec=HMS_subtract(known_RA,dec_diff)\n",
    "    HMS_print(\"RA\",dec)\n",
    "    "
   ]
  },
  {
   "cell_type": "code",
   "execution_count": 13,
   "id": "68df3b3f",
   "metadata": {},
   "outputs": [],
   "source": [
    "def find_PD(A,B,a,b,knownPD):\n",
    "    DMS_print(\"A\",A)\n",
    "    DMS_print(\"B\",B)\n",
    "    BminusA=DMS_subtract(B,A)\n",
    "    DMS_print(\"B-A\",BminusA)\n",
    "    bminusa=DMS_subtract(b,a)\n",
    "    DMS_print(\"b-a\",bminusa)\n",
    "    BmAminusbma=DMS_subtract(BminusA,bminusa)\n",
    "    DMS_print(\"(B-A)-(b-a)\",BmAminusbma)\n",
    "    seconds=BmAminusbma.d*3600+BmAminusbma.m*60+BmAminusbma.s\n",
    "    print(\"... in seconds = %d\" %seconds)\n",
    "    secondstimes866=seconds*866\n",
    "    print(\"seconds X 866 = %d\" %secondstimes866)\n",
    "    logs10secondstimes866 = log10(secondstimes866/1000)\n",
    "    print(\"L. %s\\t\\t%s\" %(str(secondstimes866),str(logs10secondstimes866)))\n",
    "    log10fifteen = log10(15)\n",
    "    print(\"+ L. 15\\t\\t\\t%s\" %str(log10fifteen))\n",
    "    logofsinofknownpd=log10(sin(radians(knownPD.d+knownPD.m/60+knownPD.s/3600)))+10\n",
    "    print(\"+ L. S. %s,%s,%s\\t%s\" %(str(knownPD.d),str(knownPD.m),str(knownPD.s),str(logofsinofknownpd)))\n",
    "    #practically infinite radius\n",
    "    radius=10**10\n",
    "    log_of_radius=log10(radius)\n",
    "    print(\"- L. R.\\t\\t\\t%s\" %str(log_of_radius))\n",
    "    print(\"_________________\")\n",
    "    diff_PD_seconds=logs10secondstimes866+log10fifteen+logofsinofknownpd-log_of_radius\n",
    "    print(\"PD diff: \\t%s\" %str(diff_PD_seconds))\n",
    "    inverse_log_pd_diff=10**diff_PD_seconds\n",
    "    print(\"Inverse log PD diff: \\t%s\" %inverse_log_pd_diff)\n",
    "    diff_PD_in_DMS=seconds_to_DMS(inverse_log_pd_diff)\n",
    "    DMS_print(\"PD diff in seconds\",diff_PD_in_DMS)\n",
    "    PD=DMS_subtract(knownPD,diff_PD_in_DMS)\n",
    "    DMS_print(\"PD\",PD)\n",
    "    \n",
    "    "
   ]
  },
  {
   "cell_type": "code",
   "execution_count": 14,
   "id": "4f3bdf1d",
   "metadata": {},
   "outputs": [],
   "source": [
    "## FIND PD OF NEW OBJECT FROM KNOWN OBJECT"
   ]
  },
  {
   "cell_type": "code",
   "execution_count": 19,
   "id": "d76c29be",
   "metadata": {},
   "outputs": [
    {
     "name": "stdout",
     "output_type": "stream",
     "text": [
      "FIRST OBSERVATION\n",
      "A: 11h,34',2\"\n",
      "B: 11h,45',55\"\n",
      "A+B: 23h,19',57\"\n",
      "(A+B)/2: 11h,39',58.5\"\n",
      "a: 11h,56',40\"\n",
      "b: 12h,7',28\"\n",
      "a+b: 24h,4',8\"\n",
      "(a+b)/2: 12h,2',4\"\n",
      "RA diff [(a+b)/2 - (A+B)/2]: 0h,22',5.5\"\n",
      "RA: 1h,17',12.7\"\n"
     ]
    }
   ],
   "source": [
    "print(\"FIRST OBSERVATION\")\n",
    "A=HMS(11,34,2)\n",
    "B=HMS(11,45,55)\n",
    "a=HMS(11,56,40)\n",
    "b=HMS(12,7,28)\n",
    "known_RA=HMS(1,39,18.2)\n",
    "find_RA(A,B,a,b,known_RA)"
   ]
  },
  {
   "cell_type": "code",
   "execution_count": 16,
   "id": "c062659b",
   "metadata": {},
   "outputs": [
    {
     "name": "stdout",
     "output_type": "stream",
     "text": [
      "SECOND OBSERVATION\n",
      "A: 12h,28',56\"\n",
      "B: 12h,40',59\"\n",
      "A+B: 25h,9',55\"\n",
      "(A+B)/2: 12h,34',57.5\"\n",
      "a: 12h,51',27\"\n",
      "b: 13h,1',41\"\n",
      "a+b: 25h,53',8\"\n",
      "(a+b)/2: 12h,56',34\"\n",
      "RA diff [(a+b)/2 - (A+B)/2]: 0h,21',36.5\"\n",
      "RA: 1h,17',41.7\"\n"
     ]
    }
   ],
   "source": [
    "print(\"SECOND OBSERVATION\")\n",
    "A=HMS(12,28,56)\n",
    "B=HMS(12,40,59)\n",
    "a=HMS(12,51,27)\n",
    "b=HMS(13,1,41)\n",
    "known_RA=HMS(1,39,18.2)\n",
    "find_RA(A,B,a,b,known_RA)"
   ]
  },
  {
   "cell_type": "code",
   "execution_count": 17,
   "id": "f9930539",
   "metadata": {},
   "outputs": [],
   "source": [
    "## FIND RA OF NEW OBJECT FROM KNOWN OBJECT"
   ]
  },
  {
   "cell_type": "code",
   "execution_count": 18,
   "id": "6ff82c71",
   "metadata": {},
   "outputs": [
    {
     "name": "stdout",
     "output_type": "stream",
     "text": [
      "FIRST OBSERVATION\n",
      "A: 11deg,34',2\"\n",
      "B: 11deg,45',55\"\n",
      "B-A: 0deg,11',53\"\n",
      "b-a: 0deg,10',48\"\n",
      "(B-A)-(b-a): 0deg,1',5\"\n",
      "... in seconds = 65\n",
      "seconds X 866 = 56290\n",
      "L. 56290\t\t1.7504312486602023\n",
      "+ L. 15\t\t\t1.1760912590556813\n",
      "+ L. S. 27,21,47\t9.66240574415796\n",
      "- L. R.\t\t\t10.0\n",
      "_________________\n",
      "PD diff: \t2.5889282518738437\n",
      "Inverse log PD diff: \t388.0862464535705\n",
      "PD diff in seconds: 0deg,6',28.08624645357048\"\n",
      "PD: 27deg,15',18.91375354642952\"\n"
     ]
    }
   ],
   "source": [
    "print(\"FIRST OBSERVATION\")\n",
    "A=DMS(11,34,2)\n",
    "B=DMS(11,45,55)\n",
    "a=DMS(11,56,40)\n",
    "b=DMS(12,7,28)\n",
    "known_PD=DMS(27,21,47)\n",
    "find_PD(A,B,a,b,known_PD)"
   ]
  }
 ],
 "metadata": {
  "kernelspec": {
   "display_name": "Python 3",
   "language": "python",
   "name": "python3"
  },
  "language_info": {
   "codemirror_mode": {
    "name": "ipython",
    "version": 3
   },
   "file_extension": ".py",
   "mimetype": "text/x-python",
   "name": "python",
   "nbconvert_exporter": "python",
   "pygments_lexer": "ipython3",
   "version": "3.8.8"
  }
 },
 "nbformat": 4,
 "nbformat_minor": 5
}
